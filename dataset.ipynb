{
 "cells": [
  {
   "cell_type": "code",
   "execution_count": 15,
   "metadata": {},
   "outputs": [],
   "source": [
    "import pandas as pd\n",
    "import random\n",
    "import string"
   ]
  },
  {
   "cell_type": "code",
   "execution_count": 10,
   "metadata": {},
   "outputs": [],
   "source": [
    "queries = pd.read_csv('data/queries.csv', header=None)"
   ]
  },
  {
   "cell_type": "code",
   "execution_count": 49,
   "metadata": {},
   "outputs": [],
   "source": [
    "random_string = lambda: ''.join(\n",
    "    random.choices(string.ascii_uppercase + string.ascii_lowercase + string.digits, k=random.randint(1, 16)))"
   ]
  },
  {
   "cell_type": "code",
   "execution_count": 66,
   "metadata": {},
   "outputs": [
    {
     "data": {
      "text/html": [
       "<div>\n",
       "<style scoped>\n",
       "    .dataframe tbody tr th:only-of-type {\n",
       "        vertical-align: middle;\n",
       "    }\n",
       "\n",
       "    .dataframe tbody tr th {\n",
       "        vertical-align: top;\n",
       "    }\n",
       "\n",
       "    .dataframe thead th {\n",
       "        text-align: right;\n",
       "    }\n",
       "</style>\n",
       "<table border=\"1\" class=\"dataframe\">\n",
       "  <thead>\n",
       "    <tr style=\"text-align: right;\">\n",
       "      <th></th>\n",
       "      <th>0</th>\n",
       "      <th>1</th>\n",
       "    </tr>\n",
       "  </thead>\n",
       "  <tbody>\n",
       "    <tr>\n",
       "      <th>0</th>\n",
       "      <td>traga tudo da tabela {table}</td>\n",
       "      <td>select * from {table}</td>\n",
       "    </tr>\n",
       "    <tr>\n",
       "      <th>1</th>\n",
       "      <td>busque tudo da tabela {table}</td>\n",
       "      <td>select * from {table}</td>\n",
       "    </tr>\n",
       "    <tr>\n",
       "      <th>2</th>\n",
       "      <td>puxe tudo da tabela {table}</td>\n",
       "      <td>select * from {table}</td>\n",
       "    </tr>\n",
       "    <tr>\n",
       "      <th>3</th>\n",
       "      <td>quero tudo da tabela {table}</td>\n",
       "      <td>select * from {table}</td>\n",
       "    </tr>\n",
       "    <tr>\n",
       "      <th>4</th>\n",
       "      <td>traga os campos {fields} da tabela {table}</td>\n",
       "      <td>select {fields} from {table}</td>\n",
       "    </tr>\n",
       "  </tbody>\n",
       "</table>\n",
       "</div>"
      ],
      "text/plain": [
       "                                            0                             1\n",
       "0                traga tudo da tabela {table}         select * from {table}\n",
       "1               busque tudo da tabela {table}         select * from {table}\n",
       "2                 puxe tudo da tabela {table}         select * from {table}\n",
       "3                quero tudo da tabela {table}         select * from {table}\n",
       "4  traga os campos {fields} da tabela {table}  select {fields} from {table}"
      ]
     },
     "execution_count": 66,
     "metadata": {},
     "output_type": "execute_result"
    }
   ],
   "source": [
    "queries.head()"
   ]
  },
  {
   "cell_type": "code",
   "execution_count": 86,
   "metadata": {},
   "outputs": [],
   "source": [
    "dataset = []\n",
    "for query in queries.itertuples():\n",
    "    for i in range(1000):\n",
    "        random_data = {\n",
    "            \"table\": random_string(),\n",
    "            \"fields\": random_string(),\n",
    "            \"cond\": random_string(),\n",
    "            \"cond_value\": random_string()\n",
    "        }\n",
    "        \n",
    "        datarow = [query[1].format(**random_data), query[2].format(**random_data)]\n",
    "        dataset.append(datarow)\n",
    "df_dataset = pd.DataFrame(data=dataset)\n",
    "df_dataset.to_csv('data/dataset_random.csv')"
   ]
  },
  {
   "cell_type": "code",
   "execution_count": 87,
   "metadata": {},
   "outputs": [
    {
     "data": {
      "text/html": [
       "<div>\n",
       "<style scoped>\n",
       "    .dataframe tbody tr th:only-of-type {\n",
       "        vertical-align: middle;\n",
       "    }\n",
       "\n",
       "    .dataframe tbody tr th {\n",
       "        vertical-align: top;\n",
       "    }\n",
       "\n",
       "    .dataframe thead th {\n",
       "        text-align: right;\n",
       "    }\n",
       "</style>\n",
       "<table border=\"1\" class=\"dataframe\">\n",
       "  <thead>\n",
       "    <tr style=\"text-align: right;\">\n",
       "      <th></th>\n",
       "      <th>0</th>\n",
       "      <th>1</th>\n",
       "    </tr>\n",
       "  </thead>\n",
       "  <tbody>\n",
       "    <tr>\n",
       "      <th>0</th>\n",
       "      <td>traga tudo da tabela MclI67N8VJ10Li</td>\n",
       "      <td>select * from MclI67N8VJ10Li</td>\n",
       "    </tr>\n",
       "    <tr>\n",
       "      <th>1</th>\n",
       "      <td>traga tudo da tabela ULNB0</td>\n",
       "      <td>select * from ULNB0</td>\n",
       "    </tr>\n",
       "    <tr>\n",
       "      <th>2</th>\n",
       "      <td>traga tudo da tabela Th3rBIKmubdT</td>\n",
       "      <td>select * from Th3rBIKmubdT</td>\n",
       "    </tr>\n",
       "    <tr>\n",
       "      <th>3</th>\n",
       "      <td>traga tudo da tabela xaINqkq63QX5kR5</td>\n",
       "      <td>select * from xaINqkq63QX5kR5</td>\n",
       "    </tr>\n",
       "    <tr>\n",
       "      <th>4</th>\n",
       "      <td>traga tudo da tabela NEKMd0</td>\n",
       "      <td>select * from NEKMd0</td>\n",
       "    </tr>\n",
       "  </tbody>\n",
       "</table>\n",
       "</div>"
      ],
      "text/plain": [
       "                                      0                              1\n",
       "0   traga tudo da tabela MclI67N8VJ10Li   select * from MclI67N8VJ10Li\n",
       "1            traga tudo da tabela ULNB0            select * from ULNB0\n",
       "2     traga tudo da tabela Th3rBIKmubdT     select * from Th3rBIKmubdT\n",
       "3  traga tudo da tabela xaINqkq63QX5kR5  select * from xaINqkq63QX5kR5\n",
       "4           traga tudo da tabela NEKMd0           select * from NEKMd0"
      ]
     },
     "execution_count": 87,
     "metadata": {},
     "output_type": "execute_result"
    }
   ],
   "source": [
    "df_dataset.head()"
   ]
  },
  {
   "cell_type": "code",
   "execution_count": null,
   "metadata": {},
   "outputs": [],
   "source": []
  }
 ],
 "metadata": {
  "kernelspec": {
   "display_name": "Python 3",
   "language": "python",
   "name": "python3"
  },
  "language_info": {
   "codemirror_mode": {
    "name": "ipython",
    "version": 3
   },
   "file_extension": ".py",
   "mimetype": "text/x-python",
   "name": "python",
   "nbconvert_exporter": "python",
   "pygments_lexer": "ipython3",
   "version": "3.7.0"
  }
 },
 "nbformat": 4,
 "nbformat_minor": 2
}
